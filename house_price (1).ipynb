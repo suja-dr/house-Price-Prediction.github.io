{
 "cells": [
  {
   "cell_type": "code",
   "execution_count": 53,
   "id": "29feda72-96c6-4ede-8685-b3f2a6283ee0",
   "metadata": {},
   "outputs": [
    {
     "name": "stdout",
     "output_type": "stream",
     "text": [
      "Requirement already satisfied: Counter in c:\\users\\praveen\\appdata\\local\\programs\\python\\python312\\lib\\site-packages (1.0.0)\n",
      "Note: you may need to restart the kernel to use updated packages.\n"
     ]
    },
    {
     "name": "stderr",
     "output_type": "stream",
     "text": [
      "\n",
      "[notice] A new release of pip is available: 24.0 -> 25.1.1\n",
      "[notice] To update, run: python.exe -m pip install --upgrade pip\n"
     ]
    }
   ],
   "source": [
    "pip install Counter"
   ]
  },
  {
   "cell_type": "code",
   "execution_count": 54,
   "id": "5c064b42-d480-47ca-8e63-a2fd083d4417",
   "metadata": {},
   "outputs": [
    {
     "name": "stdout",
     "output_type": "stream",
     "text": [
      "Requirement already satisfied: folium in c:\\users\\praveen\\appdata\\local\\programs\\python\\python312\\lib\\site-packages (0.20.0)\n",
      "Requirement already satisfied: branca>=0.6.0 in c:\\users\\praveen\\appdata\\local\\programs\\python\\python312\\lib\\site-packages (from folium) (0.8.1)\n",
      "Requirement already satisfied: jinja2>=2.9 in c:\\users\\praveen\\appdata\\local\\programs\\python\\python312\\lib\\site-packages (from folium) (3.1.6)\n",
      "Requirement already satisfied: numpy in c:\\users\\praveen\\appdata\\local\\programs\\python\\python312\\lib\\site-packages (from folium) (2.1.3)\n",
      "Requirement already satisfied: requests in c:\\users\\praveen\\appdata\\local\\programs\\python\\python312\\lib\\site-packages (from folium) (2.32.4)\n",
      "Requirement already satisfied: xyzservices in c:\\users\\praveen\\appdata\\local\\programs\\python\\python312\\lib\\site-packages (from folium) (2025.4.0)\n",
      "Requirement already satisfied: MarkupSafe>=2.0 in c:\\users\\praveen\\appdata\\local\\programs\\python\\python312\\lib\\site-packages (from jinja2>=2.9->folium) (3.0.2)\n",
      "Requirement already satisfied: charset_normalizer<4,>=2 in c:\\users\\praveen\\appdata\\local\\programs\\python\\python312\\lib\\site-packages (from requests->folium) (3.4.2)\n",
      "Requirement already satisfied: idna<4,>=2.5 in c:\\users\\praveen\\appdata\\local\\programs\\python\\python312\\lib\\site-packages (from requests->folium) (3.10)\n",
      "Requirement already satisfied: urllib3<3,>=1.21.1 in c:\\users\\praveen\\appdata\\local\\programs\\python\\python312\\lib\\site-packages (from requests->folium) (2.5.0)\n",
      "Requirement already satisfied: certifi>=2017.4.17 in c:\\users\\praveen\\appdata\\local\\programs\\python\\python312\\lib\\site-packages (from requests->folium) (2025.6.15)\n",
      "Note: you may need to restart the kernel to use updated packages.\n"
     ]
    },
    {
     "name": "stderr",
     "output_type": "stream",
     "text": [
      "\n",
      "[notice] A new release of pip is available: 24.0 -> 25.1.1\n",
      "[notice] To update, run: python.exe -m pip install --upgrade pip\n"
     ]
    }
   ],
   "source": [
    "pip install folium"
   ]
  },
  {
   "cell_type": "code",
   "execution_count": 55,
   "id": "22846bde-16e6-4bc5-8fb9-107e27ec8ee9",
   "metadata": {},
   "outputs": [
    {
     "name": "stdout",
     "output_type": "stream",
     "text": [
      "Requirement already satisfied: geopy in c:\\users\\praveen\\appdata\\local\\programs\\python\\python312\\lib\\site-packages (2.4.1)\n",
      "Requirement already satisfied: geographiclib<3,>=1.52 in c:\\users\\praveen\\appdata\\local\\programs\\python\\python312\\lib\\site-packages (from geopy) (2.0)\n",
      "Note: you may need to restart the kernel to use updated packages.\n"
     ]
    },
    {
     "name": "stderr",
     "output_type": "stream",
     "text": [
      "\n",
      "[notice] A new release of pip is available: 24.0 -> 25.1.1\n",
      "[notice] To update, run: python.exe -m pip install --upgrade pip\n"
     ]
    }
   ],
   "source": [
    "pip install geopy"
   ]
  },
  {
   "cell_type": "code",
   "execution_count": 56,
   "id": "ad280d40",
   "metadata": {},
   "outputs": [
    {
     "name": "stdout",
     "output_type": "stream",
     "text": [
      "Requirement already satisfied: pandas in c:\\users\\praveen\\appdata\\local\\programs\\python\\python312\\lib\\site-packages (2.3.0)\n",
      "Requirement already satisfied: numpy>=1.26.0 in c:\\users\\praveen\\appdata\\local\\programs\\python\\python312\\lib\\site-packages (from pandas) (2.1.3)\n",
      "Requirement already satisfied: python-dateutil>=2.8.2 in c:\\users\\praveen\\appdata\\roaming\\python\\python312\\site-packages (from pandas) (2.9.0.post0)\n",
      "Requirement already satisfied: pytz>=2020.1 in c:\\users\\praveen\\appdata\\local\\programs\\python\\python312\\lib\\site-packages (from pandas) (2025.2)\n",
      "Requirement already satisfied: tzdata>=2022.7 in c:\\users\\praveen\\appdata\\local\\programs\\python\\python312\\lib\\site-packages (from pandas) (2025.2)\n",
      "Requirement already satisfied: six>=1.5 in c:\\users\\praveen\\appdata\\roaming\\python\\python312\\site-packages (from python-dateutil>=2.8.2->pandas) (1.17.0)\n",
      "Note: you may need to restart the kernel to use updated packages.\n"
     ]
    },
    {
     "name": "stderr",
     "output_type": "stream",
     "text": [
      "\n",
      "[notice] A new release of pip is available: 24.0 -> 25.1.1\n",
      "[notice] To update, run: python.exe -m pip install --upgrade pip\n"
     ]
    }
   ],
   "source": [
    "pip install pandas"
   ]
  },
  {
   "cell_type": "code",
   "execution_count": 57,
   "id": "08f56437",
   "metadata": {},
   "outputs": [
    {
     "name": "stdout",
     "output_type": "stream",
     "text": [
      "Requirement already satisfied: matplotlib in c:\\users\\praveen\\appdata\\local\\programs\\python\\python312\\lib\\site-packages (3.10.3)\n",
      "Requirement already satisfied: contourpy>=1.0.1 in c:\\users\\praveen\\appdata\\local\\programs\\python\\python312\\lib\\site-packages (from matplotlib) (1.3.2)\n",
      "Requirement already satisfied: cycler>=0.10 in c:\\users\\praveen\\appdata\\local\\programs\\python\\python312\\lib\\site-packages (from matplotlib) (0.12.1)\n",
      "Requirement already satisfied: fonttools>=4.22.0 in c:\\users\\praveen\\appdata\\local\\programs\\python\\python312\\lib\\site-packages (from matplotlib) (4.58.4)\n",
      "Requirement already satisfied: kiwisolver>=1.3.1 in c:\\users\\praveen\\appdata\\local\\programs\\python\\python312\\lib\\site-packages (from matplotlib) (1.4.8)\n",
      "Requirement already satisfied: numpy>=1.23 in c:\\users\\praveen\\appdata\\local\\programs\\python\\python312\\lib\\site-packages (from matplotlib) (2.1.3)\n",
      "Requirement already satisfied: packaging>=20.0 in c:\\users\\praveen\\appdata\\roaming\\python\\python312\\site-packages (from matplotlib) (25.0)\n",
      "Requirement already satisfied: pillow>=8 in c:\\users\\praveen\\appdata\\local\\programs\\python\\python312\\lib\\site-packages (from matplotlib) (11.2.1)\n",
      "Requirement already satisfied: pyparsing>=2.3.1 in c:\\users\\praveen\\appdata\\local\\programs\\python\\python312\\lib\\site-packages (from matplotlib) (3.2.3)\n",
      "Requirement already satisfied: python-dateutil>=2.7 in c:\\users\\praveen\\appdata\\roaming\\python\\python312\\site-packages (from matplotlib) (2.9.0.post0)\n",
      "Requirement already satisfied: six>=1.5 in c:\\users\\praveen\\appdata\\roaming\\python\\python312\\site-packages (from python-dateutil>=2.7->matplotlib) (1.17.0)\n",
      "Note: you may need to restart the kernel to use updated packages.\n"
     ]
    },
    {
     "name": "stderr",
     "output_type": "stream",
     "text": [
      "\n",
      "[notice] A new release of pip is available: 24.0 -> 25.1.1\n",
      "[notice] To update, run: python.exe -m pip install --upgrade pip\n"
     ]
    }
   ],
   "source": [
    "pip install matplotlib"
   ]
  },
  {
   "cell_type": "code",
   "execution_count": 58,
   "id": "4e14d1c6",
   "metadata": {},
   "outputs": [
    {
     "name": "stdout",
     "output_type": "stream",
     "text": [
      "Requirement already satisfied: seaborn in c:\\users\\praveen\\appdata\\local\\programs\\python\\python312\\lib\\site-packages (0.13.2)\n",
      "Requirement already satisfied: numpy!=1.24.0,>=1.20 in c:\\users\\praveen\\appdata\\local\\programs\\python\\python312\\lib\\site-packages (from seaborn) (2.1.3)\n",
      "Requirement already satisfied: pandas>=1.2 in c:\\users\\praveen\\appdata\\local\\programs\\python\\python312\\lib\\site-packages (from seaborn) (2.3.0)\n",
      "Requirement already satisfied: matplotlib!=3.6.1,>=3.4 in c:\\users\\praveen\\appdata\\local\\programs\\python\\python312\\lib\\site-packages (from seaborn) (3.10.3)\n",
      "Requirement already satisfied: contourpy>=1.0.1 in c:\\users\\praveen\\appdata\\local\\programs\\python\\python312\\lib\\site-packages (from matplotlib!=3.6.1,>=3.4->seaborn) (1.3.2)\n",
      "Requirement already satisfied: cycler>=0.10 in c:\\users\\praveen\\appdata\\local\\programs\\python\\python312\\lib\\site-packages (from matplotlib!=3.6.1,>=3.4->seaborn) (0.12.1)\n",
      "Requirement already satisfied: fonttools>=4.22.0 in c:\\users\\praveen\\appdata\\local\\programs\\python\\python312\\lib\\site-packages (from matplotlib!=3.6.1,>=3.4->seaborn) (4.58.4)\n",
      "Requirement already satisfied: kiwisolver>=1.3.1 in c:\\users\\praveen\\appdata\\local\\programs\\python\\python312\\lib\\site-packages (from matplotlib!=3.6.1,>=3.4->seaborn) (1.4.8)\n",
      "Requirement already satisfied: packaging>=20.0 in c:\\users\\praveen\\appdata\\roaming\\python\\python312\\site-packages (from matplotlib!=3.6.1,>=3.4->seaborn) (25.0)\n",
      "Requirement already satisfied: pillow>=8 in c:\\users\\praveen\\appdata\\local\\programs\\python\\python312\\lib\\site-packages (from matplotlib!=3.6.1,>=3.4->seaborn) (11.2.1)\n",
      "Requirement already satisfied: pyparsing>=2.3.1 in c:\\users\\praveen\\appdata\\local\\programs\\python\\python312\\lib\\site-packages (from matplotlib!=3.6.1,>=3.4->seaborn) (3.2.3)\n",
      "Requirement already satisfied: python-dateutil>=2.7 in c:\\users\\praveen\\appdata\\roaming\\python\\python312\\site-packages (from matplotlib!=3.6.1,>=3.4->seaborn) (2.9.0.post0)\n",
      "Requirement already satisfied: pytz>=2020.1 in c:\\users\\praveen\\appdata\\local\\programs\\python\\python312\\lib\\site-packages (from pandas>=1.2->seaborn) (2025.2)\n",
      "Requirement already satisfied: tzdata>=2022.7 in c:\\users\\praveen\\appdata\\local\\programs\\python\\python312\\lib\\site-packages (from pandas>=1.2->seaborn) (2025.2)\n",
      "Requirement already satisfied: six>=1.5 in c:\\users\\praveen\\appdata\\roaming\\python\\python312\\site-packages (from python-dateutil>=2.7->matplotlib!=3.6.1,>=3.4->seaborn) (1.17.0)\n",
      "Note: you may need to restart the kernel to use updated packages.\n"
     ]
    },
    {
     "name": "stderr",
     "output_type": "stream",
     "text": [
      "\n",
      "[notice] A new release of pip is available: 24.0 -> 25.1.1\n",
      "[notice] To update, run: python.exe -m pip install --upgrade pip\n"
     ]
    }
   ],
   "source": [
    "pip install seaborn"
   ]
  },
  {
   "cell_type": "code",
   "execution_count": 59,
   "id": "d74b8fa5",
   "metadata": {},
   "outputs": [
    {
     "name": "stdout",
     "output_type": "stream",
     "text": [
      "Requirement already satisfied: geopy in c:\\users\\praveen\\appdata\\local\\programs\\python\\python312\\lib\\site-packages (2.4.1)\n",
      "Requirement already satisfied: geographiclib<3,>=1.52 in c:\\users\\praveen\\appdata\\local\\programs\\python\\python312\\lib\\site-packages (from geopy) (2.0)\n",
      "Note: you may need to restart the kernel to use updated packages.\n"
     ]
    },
    {
     "name": "stderr",
     "output_type": "stream",
     "text": [
      "\n",
      "[notice] A new release of pip is available: 24.0 -> 25.1.1\n",
      "[notice] To update, run: python.exe -m pip install --upgrade pip\n"
     ]
    }
   ],
   "source": [
    "pip install geopy"
   ]
  },
  {
   "cell_type": "code",
   "execution_count": 60,
   "id": "b10488cf-8830-4339-919e-944bed9e685a",
   "metadata": {},
   "outputs": [],
   "source": [
    "import folium\n",
    "import pandas as pd #data frame, null values\n",
    "import numpy as np #manipulate inside value\n",
    "import matplotlib.pyplot as plt # visualize\n",
    "import matplotlib.pylab as pylab\n",
    "import seaborn as sns\n",
    "from collections import Counter\n",
    "from geopy.geocoders import ArcGIS"
   ]
  },
  {
   "cell_type": "code",
   "execution_count": 61,
   "id": "43d686c2-03c8-4e43-a7be-1b990faf59b3",
   "metadata": {},
   "outputs": [],
   "source": [
    "df=pd.read_csv(r\"C:\\Users\\praveen\\Downloads\\Datasets\\Mumbai_Property.csv\")"
   ]
  },
  {
   "cell_type": "code",
   "execution_count": 62,
   "id": "9e69c53d-092f-4931-8b69-8971f39379d4",
   "metadata": {},
   "outputs": [
    {
     "data": {
      "text/html": [
       "<div>\n",
       "<style scoped>\n",
       "    .dataframe tbody tr th:only-of-type {\n",
       "        vertical-align: middle;\n",
       "    }\n",
       "\n",
       "    .dataframe tbody tr th {\n",
       "        vertical-align: top;\n",
       "    }\n",
       "\n",
       "    .dataframe thead th {\n",
       "        text-align: right;\n",
       "    }\n",
       "</style>\n",
       "<table border=\"1\" class=\"dataframe\">\n",
       "  <thead>\n",
       "    <tr style=\"text-align: right;\">\n",
       "      <th></th>\n",
       "      <th>Property_Name</th>\n",
       "      <th>Location</th>\n",
       "      <th>Region</th>\n",
       "      <th>Property_Age</th>\n",
       "      <th>Availability</th>\n",
       "      <th>Area_Tpye</th>\n",
       "      <th>Area_SqFt</th>\n",
       "      <th>Rate_SqFt</th>\n",
       "      <th>Floor_No</th>\n",
       "      <th>Bedroom</th>\n",
       "      <th>Bathroom</th>\n",
       "      <th>Price_Lakh</th>\n",
       "    </tr>\n",
       "  </thead>\n",
       "  <tbody>\n",
       "    <tr>\n",
       "      <th>0</th>\n",
       "      <td>Omkar Alta Monte</td>\n",
       "      <td>W E Highway Malad East Mumbai</td>\n",
       "      <td>Malad Mumbai</td>\n",
       "      <td>0 to 1 Year</td>\n",
       "      <td>Ready To Move</td>\n",
       "      <td>Super Built Up Area</td>\n",
       "      <td>2900.0</td>\n",
       "      <td>17241</td>\n",
       "      <td>14</td>\n",
       "      <td>3</td>\n",
       "      <td>4</td>\n",
       "      <td>500.0</td>\n",
       "    </tr>\n",
       "    <tr>\n",
       "      <th>1</th>\n",
       "      <td>T Bhimjyani Neelkanth Woods</td>\n",
       "      <td>Manpada Thane Mumbai</td>\n",
       "      <td>Manpada Thane</td>\n",
       "      <td>1 to 5 Year</td>\n",
       "      <td>Ready To Move</td>\n",
       "      <td>Super Built Up Area</td>\n",
       "      <td>1900.0</td>\n",
       "      <td>12631</td>\n",
       "      <td>8</td>\n",
       "      <td>3</td>\n",
       "      <td>3</td>\n",
       "      <td>240.0</td>\n",
       "    </tr>\n",
       "    <tr>\n",
       "      <th>2</th>\n",
       "      <td>Legend 1 Pramila Nagar</td>\n",
       "      <td>Dahisar West Mumbai</td>\n",
       "      <td>Dahisar Mumbai</td>\n",
       "      <td>10+ Year</td>\n",
       "      <td>Ready To Move</td>\n",
       "      <td>Super Built Up Area</td>\n",
       "      <td>595.0</td>\n",
       "      <td>15966</td>\n",
       "      <td>3</td>\n",
       "      <td>1</td>\n",
       "      <td>2</td>\n",
       "      <td>95.0</td>\n",
       "    </tr>\n",
       "    <tr>\n",
       "      <th>3</th>\n",
       "      <td>Unnamed Property</td>\n",
       "      <td>Vidyavihar West Vidyavihar West Central Mumbai...</td>\n",
       "      <td>Central Mumbai</td>\n",
       "      <td>5 to 10 Year</td>\n",
       "      <td>Ready To Move</td>\n",
       "      <td>Built Up Area</td>\n",
       "      <td>1450.0</td>\n",
       "      <td>25862</td>\n",
       "      <td>1</td>\n",
       "      <td>3</td>\n",
       "      <td>3</td>\n",
       "      <td>375.0</td>\n",
       "    </tr>\n",
       "    <tr>\n",
       "      <th>4</th>\n",
       "      <td>Unnamed Property</td>\n",
       "      <td>176 Cst Road Kalina Mumbai 400098 Santacruz Ea...</td>\n",
       "      <td>Santacruz Mumbai</td>\n",
       "      <td>5 to 10 Year</td>\n",
       "      <td>Ready To Move</td>\n",
       "      <td>Carpet Area</td>\n",
       "      <td>876.0</td>\n",
       "      <td>39954</td>\n",
       "      <td>5</td>\n",
       "      <td>2</td>\n",
       "      <td>2</td>\n",
       "      <td>350.0</td>\n",
       "    </tr>\n",
       "  </tbody>\n",
       "</table>\n",
       "</div>"
      ],
      "text/plain": [
       "                  Property_Name  \\\n",
       "0             Omkar Alta Monte    \n",
       "1  T Bhimjyani Neelkanth Woods    \n",
       "2       Legend 1 Pramila Nagar    \n",
       "3              Unnamed Property   \n",
       "4              Unnamed Property   \n",
       "\n",
       "                                            Location            Region  \\\n",
       "0                      W E Highway Malad East Mumbai      Malad Mumbai   \n",
       "1                               Manpada Thane Mumbai     Manpada Thane   \n",
       "2                                Dahisar West Mumbai    Dahisar Mumbai   \n",
       "3  Vidyavihar West Vidyavihar West Central Mumbai...    Central Mumbai   \n",
       "4  176 Cst Road Kalina Mumbai 400098 Santacruz Ea...  Santacruz Mumbai   \n",
       "\n",
       "   Property_Age   Availability            Area_Tpye  Area_SqFt  Rate_SqFt  \\\n",
       "0   0 to 1 Year  Ready To Move  Super Built Up Area     2900.0      17241   \n",
       "1   1 to 5 Year  Ready To Move  Super Built Up Area     1900.0      12631   \n",
       "2      10+ Year  Ready To Move  Super Built Up Area      595.0      15966   \n",
       "3  5 to 10 Year  Ready To Move        Built Up Area     1450.0      25862   \n",
       "4  5 to 10 Year  Ready To Move          Carpet Area      876.0      39954   \n",
       "\n",
       "   Floor_No  Bedroom  Bathroom  Price_Lakh  \n",
       "0        14        3         4       500.0  \n",
       "1         8        3         3       240.0  \n",
       "2         3        1         2        95.0  \n",
       "3         1        3         3       375.0  \n",
       "4         5        2         2       350.0  "
      ]
     },
     "execution_count": 62,
     "metadata": {},
     "output_type": "execute_result"
    }
   ],
   "source": [
    "df.head()"
   ]
  },
  {
   "cell_type": "code",
   "execution_count": 63,
   "id": "033f554e-4c33-4561-82c5-cb6ef79f3800",
   "metadata": {},
   "outputs": [
    {
     "data": {
      "text/plain": [
       "(2580, 12)"
      ]
     },
     "execution_count": 63,
     "metadata": {},
     "output_type": "execute_result"
    }
   ],
   "source": [
    "df.shape"
   ]
  },
  {
   "cell_type": "code",
   "execution_count": 64,
   "id": "3df04803-f731-42dc-a2af-9c6be1e9f3c7",
   "metadata": {},
   "outputs": [
    {
     "name": "stdout",
     "output_type": "stream",
     "text": [
      "<class 'pandas.core.frame.DataFrame'>\n",
      "RangeIndex: 2580 entries, 0 to 2579\n",
      "Data columns (total 12 columns):\n",
      " #   Column         Non-Null Count  Dtype  \n",
      "---  ------         --------------  -----  \n",
      " 0   Property_Name  2580 non-null   object \n",
      " 1   Location       2580 non-null   object \n",
      " 2   Region         2580 non-null   object \n",
      " 3   Property_Age   2580 non-null   object \n",
      " 4   Availability   2580 non-null   object \n",
      " 5   Area_Tpye      2580 non-null   object \n",
      " 6   Area_SqFt      2580 non-null   float64\n",
      " 7   Rate_SqFt      2580 non-null   int64  \n",
      " 8   Floor_No       2580 non-null   int64  \n",
      " 9   Bedroom        2580 non-null   int64  \n",
      " 10  Bathroom       2580 non-null   int64  \n",
      " 11  Price_Lakh     2580 non-null   float64\n",
      "dtypes: float64(2), int64(4), object(6)\n",
      "memory usage: 242.0+ KB\n"
     ]
    }
   ],
   "source": [
    "df.info()"
   ]
  },
  {
   "cell_type": "code",
   "execution_count": 65,
   "id": "cd36af25-18e7-4967-9988-f4b74ad42bf2",
   "metadata": {},
   "outputs": [
    {
     "data": {
      "text/plain": [
       "Availability\n",
       "Ready To Move         2565\n",
       "Under Construction      15\n",
       "Name: count, dtype: int64"
      ]
     },
     "execution_count": 65,
     "metadata": {},
     "output_type": "execute_result"
    }
   ],
   "source": [
    "df.Availability.value_counts()"
   ]
  },
  {
   "cell_type": "code",
   "execution_count": 66,
   "id": "b4c3bf22-756f-4ecd-ad1e-33b757bca177",
   "metadata": {},
   "outputs": [
    {
     "data": {
      "text/plain": [
       "Region\n",
       "Central Mumbai               225\n",
       "Mira Road                    201\n",
       "Kharghar Navi-Mumbai         196\n",
       "Thane                        192\n",
       "Ulwe Navi-Mumbai             174\n",
       "Mumbai Harbour               104\n",
       "South Mumbai                  98\n",
       "Dombivli Thane                85\n",
       "Hiranandani Thane             79\n",
       "Ghansoli Navi-Mumbai          76\n",
       "Kamothe Navi-Mumbai           64\n",
       "Kandivali Mumbai              62\n",
       "Panvel Navi-Mumbai            61\n",
       "Malad Mumbai                  59\n",
       "Kalyan Thane                  58\n",
       "Andheri Mumbai                46\n",
       "Taloja Navi-Mumbai            44\n",
       "Manpada Thane                 42\n",
       "Koparkhairane Navi-Mumbai     39\n",
       "Dahisar Mumbai                33\n",
       "Name: count, dtype: int64"
      ]
     },
     "execution_count": 66,
     "metadata": {},
     "output_type": "execute_result"
    }
   ],
   "source": [
    "df.Region.value_counts().head(20)"
   ]
  },
  {
   "cell_type": "code",
   "execution_count": 67,
   "id": "2cdc861c-9d61-4484-8af9-4a26e622b84b",
   "metadata": {},
   "outputs": [
    {
     "data": {
      "text/plain": [
       "145"
      ]
     },
     "execution_count": 67,
     "metadata": {},
     "output_type": "execute_result"
    }
   ],
   "source": [
    "df.Region.nunique()"
   ]
  },
  {
   "cell_type": "code",
   "execution_count": 68,
   "id": "eb47f588-242a-48c5-b3e6-0e1add3ac248",
   "metadata": {},
   "outputs": [
    {
     "data": {
      "text/html": [
       "<div>\n",
       "<style scoped>\n",
       "    .dataframe tbody tr th:only-of-type {\n",
       "        vertical-align: middle;\n",
       "    }\n",
       "\n",
       "    .dataframe tbody tr th {\n",
       "        vertical-align: top;\n",
       "    }\n",
       "\n",
       "    .dataframe thead th {\n",
       "        text-align: right;\n",
       "    }\n",
       "</style>\n",
       "<table border=\"1\" class=\"dataframe\">\n",
       "  <thead>\n",
       "    <tr style=\"text-align: right;\">\n",
       "      <th></th>\n",
       "      <th>Area_SqFt</th>\n",
       "      <th>Rate_SqFt</th>\n",
       "      <th>Floor_No</th>\n",
       "      <th>Bedroom</th>\n",
       "      <th>Bathroom</th>\n",
       "      <th>Price_Lakh</th>\n",
       "    </tr>\n",
       "  </thead>\n",
       "  <tbody>\n",
       "    <tr>\n",
       "      <th>count</th>\n",
       "      <td>2580.00</td>\n",
       "      <td>2580.00</td>\n",
       "      <td>2580.00</td>\n",
       "      <td>2580.00</td>\n",
       "      <td>2580.00</td>\n",
       "      <td>2580.00</td>\n",
       "    </tr>\n",
       "    <tr>\n",
       "      <th>mean</th>\n",
       "      <td>1026.11</td>\n",
       "      <td>19111.85</td>\n",
       "      <td>8.84</td>\n",
       "      <td>1.96</td>\n",
       "      <td>2.07</td>\n",
       "      <td>174.39</td>\n",
       "    </tr>\n",
       "    <tr>\n",
       "      <th>std</th>\n",
       "      <td>2287.13</td>\n",
       "      <td>40760.88</td>\n",
       "      <td>8.10</td>\n",
       "      <td>0.84</td>\n",
       "      <td>0.75</td>\n",
       "      <td>369.48</td>\n",
       "    </tr>\n",
       "    <tr>\n",
       "      <th>min</th>\n",
       "      <td>33.57</td>\n",
       "      <td>84.00</td>\n",
       "      <td>-1.00</td>\n",
       "      <td>1.00</td>\n",
       "      <td>1.00</td>\n",
       "      <td>13.00</td>\n",
       "    </tr>\n",
       "    <tr>\n",
       "      <th>25%</th>\n",
       "      <td>630.75</td>\n",
       "      <td>8791.75</td>\n",
       "      <td>3.00</td>\n",
       "      <td>1.00</td>\n",
       "      <td>2.00</td>\n",
       "      <td>67.00</td>\n",
       "    </tr>\n",
       "    <tr>\n",
       "      <th>50%</th>\n",
       "      <td>850.00</td>\n",
       "      <td>13785.00</td>\n",
       "      <td>6.00</td>\n",
       "      <td>2.00</td>\n",
       "      <td>2.00</td>\n",
       "      <td>111.50</td>\n",
       "    </tr>\n",
       "    <tr>\n",
       "      <th>75%</th>\n",
       "      <td>1156.00</td>\n",
       "      <td>22650.00</td>\n",
       "      <td>12.00</td>\n",
       "      <td>2.00</td>\n",
       "      <td>2.00</td>\n",
       "      <td>200.00</td>\n",
       "    </tr>\n",
       "    <tr>\n",
       "      <th>max</th>\n",
       "      <td>100000.00</td>\n",
       "      <td>1650000.00</td>\n",
       "      <td>59.00</td>\n",
       "      <td>6.00</td>\n",
       "      <td>7.00</td>\n",
       "      <td>16500.00</td>\n",
       "    </tr>\n",
       "  </tbody>\n",
       "</table>\n",
       "</div>"
      ],
      "text/plain": [
       "       Area_SqFt   Rate_SqFt  Floor_No  Bedroom  Bathroom  Price_Lakh\n",
       "count    2580.00     2580.00   2580.00  2580.00   2580.00     2580.00\n",
       "mean     1026.11    19111.85      8.84     1.96      2.07      174.39\n",
       "std      2287.13    40760.88      8.10     0.84      0.75      369.48\n",
       "min        33.57       84.00     -1.00     1.00      1.00       13.00\n",
       "25%       630.75     8791.75      3.00     1.00      2.00       67.00\n",
       "50%       850.00    13785.00      6.00     2.00      2.00      111.50\n",
       "75%      1156.00    22650.00     12.00     2.00      2.00      200.00\n",
       "max    100000.00  1650000.00     59.00     6.00      7.00    16500.00"
      ]
     },
     "execution_count": 68,
     "metadata": {},
     "output_type": "execute_result"
    }
   ],
   "source": [
    "df.describe().round(2)"
   ]
  },
  {
   "cell_type": "code",
   "execution_count": 69,
   "id": "58de2e96-cd9e-46c0-9894-2358423c47f0",
   "metadata": {},
   "outputs": [],
   "source": [
    "Q1=np.quantile(df.Area_SqFt,0.02)\n",
    "Q3=np.quantile(df.Area_SqFt,0.98)\n",
    "med=np.median(df.Area_SqFt)\n",
    "IQR=Q3-Q1\n",
    "upper_bound=Q3+(1.5*IQR)\n",
    "lower_bound=Q1-(1.5*IQR)\n",
    "outliers1=df.Area_SqFt[(df.Area_SqFt<=lower_bound)|(df.Area_SqFt>=upper_bound)]\n",
    "df=df.drop(outliers1.index).reset_index(drop=True)\n"
   ]
  },
  {
   "cell_type": "code",
   "execution_count": 70,
   "id": "63156212-84ae-49dd-a9fd-4074dcefba87",
   "metadata": {},
   "outputs": [
    {
     "data": {
      "text/html": [
       "<div>\n",
       "<style scoped>\n",
       "    .dataframe tbody tr th:only-of-type {\n",
       "        vertical-align: middle;\n",
       "    }\n",
       "\n",
       "    .dataframe tbody tr th {\n",
       "        vertical-align: top;\n",
       "    }\n",
       "\n",
       "    .dataframe thead th {\n",
       "        text-align: right;\n",
       "    }\n",
       "</style>\n",
       "<table border=\"1\" class=\"dataframe\">\n",
       "  <thead>\n",
       "    <tr style=\"text-align: right;\">\n",
       "      <th></th>\n",
       "      <th>Area_SqFt</th>\n",
       "      <th>Rate_SqFt</th>\n",
       "      <th>Floor_No</th>\n",
       "      <th>Bedroom</th>\n",
       "      <th>Bathroom</th>\n",
       "      <th>Price_Lakh</th>\n",
       "    </tr>\n",
       "  </thead>\n",
       "  <tbody>\n",
       "    <tr>\n",
       "      <th>count</th>\n",
       "      <td>2572.00</td>\n",
       "      <td>2572.00</td>\n",
       "      <td>2572.00</td>\n",
       "      <td>2572.00</td>\n",
       "      <td>2572.00</td>\n",
       "      <td>2572.00</td>\n",
       "    </tr>\n",
       "    <tr>\n",
       "      <th>mean</th>\n",
       "      <td>947.67</td>\n",
       "      <td>19145.85</td>\n",
       "      <td>8.85</td>\n",
       "      <td>1.96</td>\n",
       "      <td>2.06</td>\n",
       "      <td>173.07</td>\n",
       "    </tr>\n",
       "    <tr>\n",
       "      <th>std</th>\n",
       "      <td>491.80</td>\n",
       "      <td>40812.82</td>\n",
       "      <td>8.10</td>\n",
       "      <td>0.84</td>\n",
       "      <td>0.75</td>\n",
       "      <td>367.09</td>\n",
       "    </tr>\n",
       "    <tr>\n",
       "      <th>min</th>\n",
       "      <td>33.57</td>\n",
       "      <td>1808.00</td>\n",
       "      <td>-1.00</td>\n",
       "      <td>1.00</td>\n",
       "      <td>1.00</td>\n",
       "      <td>13.00</td>\n",
       "    </tr>\n",
       "    <tr>\n",
       "      <th>25%</th>\n",
       "      <td>630.00</td>\n",
       "      <td>8802.50</td>\n",
       "      <td>3.00</td>\n",
       "      <td>1.00</td>\n",
       "      <td>2.00</td>\n",
       "      <td>67.00</td>\n",
       "    </tr>\n",
       "    <tr>\n",
       "      <th>50%</th>\n",
       "      <td>850.00</td>\n",
       "      <td>13850.00</td>\n",
       "      <td>6.00</td>\n",
       "      <td>2.00</td>\n",
       "      <td>2.00</td>\n",
       "      <td>111.00</td>\n",
       "    </tr>\n",
       "    <tr>\n",
       "      <th>75%</th>\n",
       "      <td>1150.00</td>\n",
       "      <td>22658.50</td>\n",
       "      <td>12.00</td>\n",
       "      <td>2.00</td>\n",
       "      <td>2.00</td>\n",
       "      <td>200.00</td>\n",
       "    </tr>\n",
       "    <tr>\n",
       "      <th>max</th>\n",
       "      <td>5000.00</td>\n",
       "      <td>1650000.00</td>\n",
       "      <td>59.00</td>\n",
       "      <td>6.00</td>\n",
       "      <td>7.00</td>\n",
       "      <td>16500.00</td>\n",
       "    </tr>\n",
       "  </tbody>\n",
       "</table>\n",
       "</div>"
      ],
      "text/plain": [
       "       Area_SqFt   Rate_SqFt  Floor_No  Bedroom  Bathroom  Price_Lakh\n",
       "count    2572.00     2572.00   2572.00  2572.00   2572.00     2572.00\n",
       "mean      947.67    19145.85      8.85     1.96      2.06      173.07\n",
       "std       491.80    40812.82      8.10     0.84      0.75      367.09\n",
       "min        33.57     1808.00     -1.00     1.00      1.00       13.00\n",
       "25%       630.00     8802.50      3.00     1.00      2.00       67.00\n",
       "50%       850.00    13850.00      6.00     2.00      2.00      111.00\n",
       "75%      1150.00    22658.50     12.00     2.00      2.00      200.00\n",
       "max      5000.00  1650000.00     59.00     6.00      7.00    16500.00"
      ]
     },
     "execution_count": 70,
     "metadata": {},
     "output_type": "execute_result"
    }
   ],
   "source": [
    "df.describe().round(2)"
   ]
  },
  {
   "cell_type": "code",
   "execution_count": 71,
   "id": "fa09738b-66b3-4d0d-8e61-421e8c852758",
   "metadata": {},
   "outputs": [],
   "source": [
    "df=df.drop_duplicates(ignore_index=True)"
   ]
  },
  {
   "cell_type": "code",
   "execution_count": 72,
   "id": "2e50be79-d418-4baa-9332-a9324ccc5165",
   "metadata": {},
   "outputs": [
    {
     "data": {
      "text/plain": [
       "Property_Name    0\n",
       "Location         0\n",
       "Region           0\n",
       "Property_Age     0\n",
       "Availability     0\n",
       "Area_Tpye        0\n",
       "Area_SqFt        0\n",
       "Rate_SqFt        0\n",
       "Floor_No         0\n",
       "Bedroom          0\n",
       "Bathroom         0\n",
       "Price_Lakh       0\n",
       "dtype: int64"
      ]
     },
     "execution_count": 72,
     "metadata": {},
     "output_type": "execute_result"
    }
   ],
   "source": [
    "df.isna().sum()"
   ]
  },
  {
   "cell_type": "code",
   "execution_count": 73,
   "id": "04f5f256-9b83-4b96-a845-d3c551b83680",
   "metadata": {},
   "outputs": [
    {
     "data": {
      "text/plain": [
       "(2565, 12)"
      ]
     },
     "execution_count": 73,
     "metadata": {},
     "output_type": "execute_result"
    }
   ],
   "source": [
    "df.shape"
   ]
  },
  {
   "cell_type": "code",
   "execution_count": 74,
   "id": "b4846286-22a1-4f14-b981-6c86fb1ba84e",
   "metadata": {},
   "outputs": [],
   "source": [
    "df.to_csv(r\"C:\\Users\\praveen\\Downloads\\archive (12)\\Final_Project.csv\",index_label=False)\n",
    "df=pd.read_csv(r\"C:\\Users\\praveen\\Downloads\\archive (12)\\Final_Project.csv\")"
   ]
  },
  {
   "cell_type": "code",
   "execution_count": 75,
   "id": "2e07a648-0b2a-468b-a599-8ab786e791d4",
   "metadata": {},
   "outputs": [
    {
     "data": {
      "text/html": [
       "<div>\n",
       "<style scoped>\n",
       "    .dataframe tbody tr th:only-of-type {\n",
       "        vertical-align: middle;\n",
       "    }\n",
       "\n",
       "    .dataframe tbody tr th {\n",
       "        vertical-align: top;\n",
       "    }\n",
       "\n",
       "    .dataframe thead th {\n",
       "        text-align: right;\n",
       "    }\n",
       "</style>\n",
       "<table border=\"1\" class=\"dataframe\">\n",
       "  <thead>\n",
       "    <tr style=\"text-align: right;\">\n",
       "      <th></th>\n",
       "      <th>Property_Name</th>\n",
       "      <th>Location</th>\n",
       "      <th>Region</th>\n",
       "      <th>Property_Age</th>\n",
       "      <th>Availability</th>\n",
       "      <th>Area_Tpye</th>\n",
       "      <th>Area_SqFt</th>\n",
       "      <th>Rate_SqFt</th>\n",
       "      <th>Floor_No</th>\n",
       "      <th>Bedroom</th>\n",
       "      <th>Bathroom</th>\n",
       "      <th>Price_Lakh</th>\n",
       "    </tr>\n",
       "  </thead>\n",
       "  <tbody>\n",
       "    <tr>\n",
       "      <th>0</th>\n",
       "      <td>Omkar Alta Monte</td>\n",
       "      <td>W E Highway Malad East Mumbai</td>\n",
       "      <td>Malad Mumbai</td>\n",
       "      <td>0 to 1 Year</td>\n",
       "      <td>Ready To Move</td>\n",
       "      <td>Super Built Up Area</td>\n",
       "      <td>2900.0</td>\n",
       "      <td>17241</td>\n",
       "      <td>14</td>\n",
       "      <td>3</td>\n",
       "      <td>4</td>\n",
       "      <td>500.0</td>\n",
       "    </tr>\n",
       "    <tr>\n",
       "      <th>1</th>\n",
       "      <td>T Bhimjyani Neelkanth Woods</td>\n",
       "      <td>Manpada Thane Mumbai</td>\n",
       "      <td>Manpada Thane</td>\n",
       "      <td>1 to 5 Year</td>\n",
       "      <td>Ready To Move</td>\n",
       "      <td>Super Built Up Area</td>\n",
       "      <td>1900.0</td>\n",
       "      <td>12631</td>\n",
       "      <td>8</td>\n",
       "      <td>3</td>\n",
       "      <td>3</td>\n",
       "      <td>240.0</td>\n",
       "    </tr>\n",
       "    <tr>\n",
       "      <th>2</th>\n",
       "      <td>Legend 1 Pramila Nagar</td>\n",
       "      <td>Dahisar West Mumbai</td>\n",
       "      <td>Dahisar Mumbai</td>\n",
       "      <td>10+ Year</td>\n",
       "      <td>Ready To Move</td>\n",
       "      <td>Super Built Up Area</td>\n",
       "      <td>595.0</td>\n",
       "      <td>15966</td>\n",
       "      <td>3</td>\n",
       "      <td>1</td>\n",
       "      <td>2</td>\n",
       "      <td>95.0</td>\n",
       "    </tr>\n",
       "    <tr>\n",
       "      <th>3</th>\n",
       "      <td>Unnamed Property</td>\n",
       "      <td>Vidyavihar West Vidyavihar West Central Mumbai...</td>\n",
       "      <td>Central Mumbai</td>\n",
       "      <td>5 to 10 Year</td>\n",
       "      <td>Ready To Move</td>\n",
       "      <td>Built Up Area</td>\n",
       "      <td>1450.0</td>\n",
       "      <td>25862</td>\n",
       "      <td>1</td>\n",
       "      <td>3</td>\n",
       "      <td>3</td>\n",
       "      <td>375.0</td>\n",
       "    </tr>\n",
       "    <tr>\n",
       "      <th>4</th>\n",
       "      <td>Unnamed Property</td>\n",
       "      <td>176 Cst Road Kalina Mumbai 400098 Santacruz Ea...</td>\n",
       "      <td>Santacruz Mumbai</td>\n",
       "      <td>5 to 10 Year</td>\n",
       "      <td>Ready To Move</td>\n",
       "      <td>Carpet Area</td>\n",
       "      <td>876.0</td>\n",
       "      <td>39954</td>\n",
       "      <td>5</td>\n",
       "      <td>2</td>\n",
       "      <td>2</td>\n",
       "      <td>350.0</td>\n",
       "    </tr>\n",
       "    <tr>\n",
       "      <th>...</th>\n",
       "      <td>...</td>\n",
       "      <td>...</td>\n",
       "      <td>...</td>\n",
       "      <td>...</td>\n",
       "      <td>...</td>\n",
       "      <td>...</td>\n",
       "      <td>...</td>\n",
       "      <td>...</td>\n",
       "      <td>...</td>\n",
       "      <td>...</td>\n",
       "      <td>...</td>\n",
       "      <td>...</td>\n",
       "    </tr>\n",
       "    <tr>\n",
       "      <th>2560</th>\n",
       "      <td>Shagun White Woods</td>\n",
       "      <td>Sector 23 Ulwe Navi Mumbai Mumbai</td>\n",
       "      <td>Ulwe Navi-Mumbai</td>\n",
       "      <td>1 to 5 Year</td>\n",
       "      <td>Ready To Move</td>\n",
       "      <td>Built Up Area</td>\n",
       "      <td>1180.0</td>\n",
       "      <td>10338</td>\n",
       "      <td>2</td>\n",
       "      <td>2</td>\n",
       "      <td>2</td>\n",
       "      <td>122.0</td>\n",
       "    </tr>\n",
       "    <tr>\n",
       "      <th>2561</th>\n",
       "      <td>Guru Anant</td>\n",
       "      <td>Sector 2 Ulwe Navi Mumbai Mumbai</td>\n",
       "      <td>Ulwe Navi-Mumbai</td>\n",
       "      <td>0 to 1 Year</td>\n",
       "      <td>Ready To Move</td>\n",
       "      <td>Built Up Area</td>\n",
       "      <td>1090.0</td>\n",
       "      <td>8073</td>\n",
       "      <td>11</td>\n",
       "      <td>2</td>\n",
       "      <td>2</td>\n",
       "      <td>88.0</td>\n",
       "    </tr>\n",
       "    <tr>\n",
       "      <th>2562</th>\n",
       "      <td>Balaji Mayuresh Delta</td>\n",
       "      <td>Ulwe Navi Mumbai Mumbai</td>\n",
       "      <td>Ulwe Navi-Mumbai</td>\n",
       "      <td>1 to 5 Year</td>\n",
       "      <td>Ready To Move</td>\n",
       "      <td>Built Up Area</td>\n",
       "      <td>1295.0</td>\n",
       "      <td>10579</td>\n",
       "      <td>6</td>\n",
       "      <td>2</td>\n",
       "      <td>2</td>\n",
       "      <td>137.0</td>\n",
       "    </tr>\n",
       "    <tr>\n",
       "      <th>2563</th>\n",
       "      <td>Balaji Mayuresh Delta</td>\n",
       "      <td>Ulwe Navi Mumbai Mumbai</td>\n",
       "      <td>Ulwe Navi-Mumbai</td>\n",
       "      <td>1 to 5 Year</td>\n",
       "      <td>Ready To Move</td>\n",
       "      <td>Built Up Area</td>\n",
       "      <td>1850.0</td>\n",
       "      <td>9243</td>\n",
       "      <td>6</td>\n",
       "      <td>3</td>\n",
       "      <td>3</td>\n",
       "      <td>171.0</td>\n",
       "    </tr>\n",
       "    <tr>\n",
       "      <th>2564</th>\n",
       "      <td>Gurukrupa Tulsi Heights</td>\n",
       "      <td>Ulwe Navi Mumbai Mumbai</td>\n",
       "      <td>Ulwe Navi-Mumbai</td>\n",
       "      <td>0 to 1 Year</td>\n",
       "      <td>Ready To Move</td>\n",
       "      <td>Built Up Area</td>\n",
       "      <td>1100.0</td>\n",
       "      <td>8636</td>\n",
       "      <td>4</td>\n",
       "      <td>2</td>\n",
       "      <td>2</td>\n",
       "      <td>95.0</td>\n",
       "    </tr>\n",
       "  </tbody>\n",
       "</table>\n",
       "<p>2565 rows × 12 columns</p>\n",
       "</div>"
      ],
      "text/plain": [
       "                     Property_Name  \\\n",
       "0                Omkar Alta Monte    \n",
       "1     T Bhimjyani Neelkanth Woods    \n",
       "2          Legend 1 Pramila Nagar    \n",
       "3                 Unnamed Property   \n",
       "4                 Unnamed Property   \n",
       "...                            ...   \n",
       "2560           Shagun White Woods    \n",
       "2561                   Guru Anant    \n",
       "2562        Balaji Mayuresh Delta    \n",
       "2563        Balaji Mayuresh Delta    \n",
       "2564      Gurukrupa Tulsi Heights    \n",
       "\n",
       "                                               Location            Region  \\\n",
       "0                         W E Highway Malad East Mumbai      Malad Mumbai   \n",
       "1                                  Manpada Thane Mumbai     Manpada Thane   \n",
       "2                                   Dahisar West Mumbai    Dahisar Mumbai   \n",
       "3     Vidyavihar West Vidyavihar West Central Mumbai...    Central Mumbai   \n",
       "4     176 Cst Road Kalina Mumbai 400098 Santacruz Ea...  Santacruz Mumbai   \n",
       "...                                                 ...               ...   \n",
       "2560                  Sector 23 Ulwe Navi Mumbai Mumbai  Ulwe Navi-Mumbai   \n",
       "2561                   Sector 2 Ulwe Navi Mumbai Mumbai  Ulwe Navi-Mumbai   \n",
       "2562                            Ulwe Navi Mumbai Mumbai  Ulwe Navi-Mumbai   \n",
       "2563                            Ulwe Navi Mumbai Mumbai  Ulwe Navi-Mumbai   \n",
       "2564                            Ulwe Navi Mumbai Mumbai  Ulwe Navi-Mumbai   \n",
       "\n",
       "      Property_Age   Availability            Area_Tpye  Area_SqFt  Rate_SqFt  \\\n",
       "0      0 to 1 Year  Ready To Move  Super Built Up Area     2900.0      17241   \n",
       "1      1 to 5 Year  Ready To Move  Super Built Up Area     1900.0      12631   \n",
       "2         10+ Year  Ready To Move  Super Built Up Area      595.0      15966   \n",
       "3     5 to 10 Year  Ready To Move        Built Up Area     1450.0      25862   \n",
       "4     5 to 10 Year  Ready To Move          Carpet Area      876.0      39954   \n",
       "...            ...            ...                  ...        ...        ...   \n",
       "2560   1 to 5 Year  Ready To Move        Built Up Area     1180.0      10338   \n",
       "2561   0 to 1 Year  Ready To Move        Built Up Area     1090.0       8073   \n",
       "2562   1 to 5 Year  Ready To Move        Built Up Area     1295.0      10579   \n",
       "2563   1 to 5 Year  Ready To Move        Built Up Area     1850.0       9243   \n",
       "2564   0 to 1 Year  Ready To Move        Built Up Area     1100.0       8636   \n",
       "\n",
       "      Floor_No  Bedroom  Bathroom  Price_Lakh  \n",
       "0           14        3         4       500.0  \n",
       "1            8        3         3       240.0  \n",
       "2            3        1         2        95.0  \n",
       "3            1        3         3       375.0  \n",
       "4            5        2         2       350.0  \n",
       "...        ...      ...       ...         ...  \n",
       "2560         2        2         2       122.0  \n",
       "2561        11        2         2        88.0  \n",
       "2562         6        2         2       137.0  \n",
       "2563         6        3         3       171.0  \n",
       "2564         4        2         2        95.0  \n",
       "\n",
       "[2565 rows x 12 columns]"
      ]
     },
     "execution_count": 75,
     "metadata": {},
     "output_type": "execute_result"
    }
   ],
   "source": [
    "df"
   ]
  },
  {
   "cell_type": "code",
   "execution_count": 76,
   "id": "8d3ed6d8-0cd2-4fa9-aa0e-02c52021a010",
   "metadata": {},
   "outputs": [],
   "source": [
    "rcParams={'xtick.labelsize':'14','ytick.labelsize':'14','axes.labelsize':'16'}"
   ]
  },
  {
   "cell_type": "code",
   "execution_count": 77,
   "id": "d8f29743-0893-4a49-8eef-d5299cacb79e",
   "metadata": {},
   "outputs": [
    {
     "data": {
      "image/png": "[encoded data removed]",
      "text/plain": [
       "<Figure size 1200x1400 with 12 Axes>"
      ]
     },
     "metadata": {},
     "output_type": "display_data"
    }
   ],
   "source": [
    "fig, ax = plt.subplots(6,2,figsize=(12,14))\n",
    "fig.suptitle('Histplot & Box Plot : With Outliers', size=18,fontweight=\"bold\")\n",
    "sns.kdeplot(ax=ax[0,0], data=df, x='Area_SqFt')\n",
    "sns.boxplot(ax= ax[0,1], data= df, x='Area_SqFt')\n",
    "sns.kdeplot(ax=ax[1,0], data=df, x='Area_SqFt')\n",
    "sns.boxplot(ax= ax[1,1], data= df, x='Area_SqFt')\n",
    "sns.kdeplot(ax=ax[2,0], data=df, x='Area_SqFt')\n",
    "sns.boxplot(ax= ax[2,1], data= df, x='Area_SqFt')\n",
    "sns.kdeplot(ax=ax[3,0], data=df, x='Area_SqFt')\n",
    "sns.boxplot(ax= ax[3,1], data= df, x='Area_SqFt')\n",
    "sns.kdeplot(ax=ax[4,0], data=df, x='Area_SqFt')\n",
    "sns.boxplot(ax= ax[4,1], data= df, x='Area_SqFt')\n",
    "sns.kdeplot(ax=ax[5,0], data=df, x='Area_SqFt')\n",
    "sns.boxplot(ax= ax[5,1], data= df, x='Area_SqFt')\n",
    "\n",
    "pylab.rcParams.update(rcParams)\n",
    "fig.tight_layout()\n",
    "fig.subplots_adjust(top=0.93)\n",
    "plt.show()\n",
    "\n",
    "#fig.savefig('Outliers', dpi=500)"
   ]
  },
  {
   "cell_type": "code",
   "execution_count": 78,
   "id": "30086882-5a53-4397-8bd1-690378a0805e",
   "metadata": {},
   "outputs": [],
   "source": [
    "num_columns=df.describe().columns\n",
    "categorical_cols=df.describe(include='object').columns"
   ]
  },
  {
   "cell_type": "code",
   "execution_count": 79,
   "id": "ecc11b47-7fd4-4372-bf9c-46352879a790",
   "metadata": {},
   "outputs": [
    {
     "data": {
      "text/plain": [
       "Property_Name     906\n",
       "Location         1307\n",
       "Region            145\n",
       "Property_Age        5\n",
       "Availability        2\n",
       "Area_Tpye           4\n",
       "Area_SqFt         719\n",
       "Rate_SqFt        2023\n",
       "Floor_No           53\n",
       "Bedroom             6\n",
       "Bathroom            7\n",
       "Price_Lakh        477\n",
       "dtype: int64"
      ]
     },
     "execution_count": 79,
     "metadata": {},
     "output_type": "execute_result"
    }
   ],
   "source": [
    "df.nunique()"
   ]
  },
  {
   "cell_type": "code",
   "execution_count": 80,
   "id": "3897c86b-f6da-4125-a111-54a825228d47",
   "metadata": {},
   "outputs": [],
   "source": [
    "binary_variables=[i for i in df.columns if (len(df[i].unique())==2)]"
   ]
  },
  {
   "cell_type": "code",
   "execution_count": 81,
   "id": "e152faa6-3911-4b93-b925-3a398a5bbefa",
   "metadata": {},
   "outputs": [
    {
     "data": {
      "text/plain": [
       "['Availability']"
      ]
     },
     "execution_count": 81,
     "metadata": {},
     "output_type": "execute_result"
    }
   ],
   "source": [
    "binary_variables"
   ]
  },
  {
   "cell_type": "code",
   "execution_count": 82,
   "id": "2802f2ee-7a59-458e-ab8a-620eea6492d4",
   "metadata": {},
   "outputs": [],
   "source": [
    "ordinal_variables=[i for i in df.columns if ((len(df[i].unique())>2) and (len(df[i].unique())<=53))]"
   ]
  },
  {
   "cell_type": "code",
   "execution_count": 83,
   "id": "a853019c-3670-4552-b28f-ef3d80d25fb7",
   "metadata": {},
   "outputs": [
    {
     "data": {
      "text/plain": [
       "['Property_Age', 'Area_Tpye', 'Floor_No', 'Bedroom', 'Bathroom']"
      ]
     },
     "execution_count": 83,
     "metadata": {},
     "output_type": "execute_result"
    }
   ],
   "source": [
    "ordinal_variables"
   ]
  },
  {
   "cell_type": "code",
   "execution_count": 84,
   "id": "c2786782-4d6b-4a8c-add9-9d92cbaaf654",
   "metadata": {},
   "outputs": [],
   "source": [
    "continous_variable=[i for i in df.columns if ((len(df[i].unique())>53))]\n",
    "continous_variable= continous_variable[3:-1]"
   ]
  },
  {
   "cell_type": "code",
   "execution_count": 85,
   "id": "079264f2-3971-4e6c-82a2-f84f552ac4b0",
   "metadata": {},
   "outputs": [
    {
     "data": {
      "text/plain": [
       "['Area_SqFt', 'Rate_SqFt']"
      ]
     },
     "execution_count": 85,
     "metadata": {},
     "output_type": "execute_result"
    }
   ],
   "source": [
    "continous_variable"
   ]
  },
  {
   "cell_type": "code",
   "execution_count": 86,
   "id": "4ab74225-82a8-4c0a-8743-fd7cbf14a184",
   "metadata": {},
   "outputs": [],
   "source": [
    "target_variable='Price_Lakh'"
   ]
  },
  {
   "cell_type": "code",
   "execution_count": 87,
   "id": "ea45e825-8b44-4ea2-80a1-22bfa16f24c5",
   "metadata": {},
   "outputs": [
    {
     "data": {
      "text/plain": [
       "'Price_Lakh'"
      ]
     },
     "execution_count": 87,
     "metadata": {},
     "output_type": "execute_result"
    }
   ],
   "source": [
    "target_variable"
   ]
  },
  {
   "cell_type": "code",
   "execution_count": 88,
   "id": "16c1d960-492f-42d5-b90b-c3635b81003f",
   "metadata": {},
   "outputs": [
    {
     "name": "stdout",
     "output_type": "stream",
     "text": [
      "Price_Lakh\n",
      "Elemenet in target category: 10\n"
     ]
    }
   ],
   "source": [
    "print(target_variable)\n",
    "print('Elemenet in target category:', len(target_variable))"
   ]
  },
  {
   "cell_type": "code",
   "execution_count": 89,
   "id": "7f40a7c9-47d1-4686-92d2-d96a2ab6218f",
   "metadata": {},
   "outputs": [],
   "source": [
    "target_variables='Property_Age'"
   ]
  },
  {
   "cell_type": "code",
   "execution_count": 90,
   "id": "100ae72c-a250-4fc3-9b43-0394898798a9",
   "metadata": {},
   "outputs": [
    {
     "data": {
      "text/plain": [
       "'Property_Age'"
      ]
     },
     "execution_count": 90,
     "metadata": {},
     "output_type": "execute_result"
    }
   ],
   "source": [
    "target_variables"
   ]
  },
  {
   "cell_type": "code",
   "execution_count": 91,
   "id": "0b2fffd8-42b3-41d8-99c7-bed9e51572fa",
   "metadata": {},
   "outputs": [
    {
     "name": "stdout",
     "output_type": "stream",
     "text": [
      "Property_Age\n",
      "Elemenet in target category: 12\n"
     ]
    }
   ],
   "source": [
    "print(target_variables)\n",
    "print('Elemenet in target category:', len(target_variables))"
   ]
  },
  {
   "cell_type": "code",
   "execution_count": 92,
   "id": "f908d1f2-3b9c-4513-b9db-99195bbbf0bb",
   "metadata": {},
   "outputs": [
    {
     "data": {
      "text/plain": [
       "Index(['Property_Name', 'Location', 'Region', 'Property_Age', 'Availability',\n",
       "       'Area_Tpye', 'Area_SqFt', 'Rate_SqFt', 'Floor_No', 'Bedroom',\n",
       "       'Bathroom', 'Price_Lakh'],\n",
       "      dtype='object')"
      ]
     },
     "execution_count": 92,
     "metadata": {},
     "output_type": "execute_result"
    }
   ],
   "source": [
    "df.columns"
   ]
  },
  {
   "cell_type": "code",
   "execution_count": 93,
   "id": "1ffed76e-f91a-416c-a3e5-76aff06495f0",
   "metadata": {},
   "outputs": [
    {
     "data": {
      "text/plain": [
       "array([487, 802, 359, 843, 859, 791, 217,  76, 238, 385, 382, 192, 553,\n",
       "       858,  91, 647, 277, 675, 797, 513, 353, 764, 735, 189,  92, 174,\n",
       "       370, 617, 476, 512, 381, 690, 478, 733,  44, 778, 306,  60, 887,\n",
       "       374, 855,  45, 114, 167, 610, 379, 165, 360, 342, 860,  15, 804,\n",
       "       564, 211, 691, 605, 363, 853, 190, 608, 399, 679,  80, 894, 832,\n",
       "       662, 112, 423, 416, 426, 384, 375, 198, 336, 400, 495,  62,  24,\n",
       "       241, 222, 310, 284, 273, 842, 354, 881, 643,   1, 885, 378, 644,\n",
       "       889, 325, 718, 748, 676, 295, 215, 127, 206, 496, 765, 654, 144,\n",
       "       861, 893, 871, 218, 597, 516, 905, 321,  40, 895, 505, 293, 338,\n",
       "       500,  85, 737, 134, 699,  77, 806, 575, 257, 819,  14, 157, 616,\n",
       "       388, 108, 389, 268, 335, 434, 299, 715,  33, 767, 281,   0, 100,\n",
       "       253, 825, 525, 410, 355,  47, 731, 795, 135, 787, 151, 305, 409,\n",
       "       897, 517, 746, 571, 760, 742, 783, 485, 656, 153, 886, 422, 739,\n",
       "       698, 141, 348, 796, 652, 700, 723, 705,  59, 132, 722, 455, 829,\n",
       "        79, 250, 773, 896,  41, 532, 537, 694, 289, 248, 484, 857, 852,\n",
       "        56,   7, 762, 780, 466, 406, 838, 390,  55, 756, 477, 874, 380,\n",
       "       589, 591, 552, 603, 111, 816, 683, 667, 627, 752,  75, 396, 870,\n",
       "        72, 879, 775, 594, 498, 301,  10, 528, 602, 880, 258, 152, 844,\n",
       "       672, 554,  65, 696, 615,  29, 522, 246, 509, 630, 623, 164,  78,\n",
       "       899, 207, 709, 445, 123, 261, 743, 862, 116, 332, 659, 494, 607,\n",
       "       393, 260, 814, 770, 548, 834,  26,  32, 356, 648, 491, 255, 629,\n",
       "        21, 441, 601, 486,  16, 320, 854, 823, 732, 523, 319, 197, 637,\n",
       "        35, 543, 318, 437, 464, 563, 682,  99, 868, 104,  73, 347, 606,\n",
       "       618, 664, 587, 521, 181, 657, 309, 848, 489, 511, 805, 191,   5,\n",
       "       351, 716, 875, 208, 138, 297,  18, 278, 302, 324, 159, 254, 811,\n",
       "       474,  68, 286, 287,  49, 577, 747, 836,   9, 262, 719, 740, 470,\n",
       "       163, 689, 122,  52, 463,  39, 685, 649, 358, 736, 856, 572, 641,\n",
       "       187, 708, 330, 131, 343, 376, 902, 235, 137, 837, 333, 872, 308,\n",
       "       550, 551, 288, 323, 118, 290, 612, 493, 663, 863, 673, 453, 790,\n",
       "       681, 635, 147, 808, 263,   2, 492,  43,  20, 668, 546,  86,  74,\n",
       "       839, 431, 247, 710, 751, 717, 559, 346, 154,  61, 720, 788, 341,\n",
       "        28,  27,  38, 408, 754, 213, 272, 576, 264, 259,   8, 194, 454,\n",
       "       412, 307, 419, 298, 726, 166, 632, 414, 801, 438, 274, 285, 515,\n",
       "       556, 741, 877, 401, 168, 232, 397, 373, 228, 768, 810, 479, 223,\n",
       "       199, 156, 757, 337, 568, 524, 866, 331, 210, 779, 622, 109, 898,\n",
       "        30, 888,  98, 651,  83,  63, 176, 171, 121, 541, 233, 465, 327,\n",
       "       467,  51, 294, 188, 621, 519, 252, 456, 573, 395, 793, 357, 766,\n",
       "       146, 404, 520, 840, 472, 444, 666, 103, 822, 558, 391, 322, 544,\n",
       "       251, 243, 349,   4, 660, 713, 634, 180, 728,  22, 714, 820, 216,\n",
       "       684, 579, 692, 280,  46, 421, 312, 774,  58,  88, 425, 593, 417,\n",
       "       570, 631, 688, 429, 744, 884, 314, 815, 175, 457, 458, 584, 833,\n",
       "       452, 847, 113, 345, 901, 821, 604, 613,  87, 828, 481, 328, 687,\n",
       "       785, 824, 443,   3, 566, 758, 344,  13, 411, 339, 303, 239, 291,\n",
       "       557, 530, 555, 471, 569, 234, 196,  37, 326, 614, 620, 115,  17,\n",
       "       220, 204, 468,  54, 704, 703, 242, 367, 227, 540, 904, 592, 538,\n",
       "       240, 650,  19, 507,  81, 490, 867, 102, 826,  23, 789, 903, 830,\n",
       "       812, 428, 139, 686, 402, 365,  50, 126, 170, 878, 407, 212,  69,\n",
       "       133, 800, 534, 890, 580, 497, 581, 415, 624, 469, 169, 707,  57,\n",
       "       864, 451, 184, 473,  84, 772, 392, 265, 439, 499,  89, 680, 283,\n",
       "       483, 201,  90, 203, 586, 831, 161, 526, 508, 403, 850, 377, 387,\n",
       "        48, 763, 611, 729, 236, 279, 547,  66, 900, 282,  70, 535, 600,\n",
       "       107, 177,  25, 891, 598, 841, 366, 195, 329, 185, 178, 158, 609,\n",
       "       372, 221, 475, 334,  67, 753, 340,  82, 876, 803, 136, 873, 504,\n",
       "       567, 846, 619, 110, 671,  97,  12, 574, 394, 101, 237, 655, 296,\n",
       "       590, 267, 518, 448, 120, 361,  31, 398, 230, 231, 271, 249, 794,\n",
       "       784, 724, 446, 480, 561, 759, 817, 311, 461, 368, 364, 420, 633,\n",
       "        95, 275, 130, 596, 219, 202, 642, 701, 734, 433, 771, 482, 721,\n",
       "       865, 460, 440, 809, 711, 738, 183, 669, 117, 813, 503,  71, 173,\n",
       "       502, 209, 304, 585, 172, 883, 435, 179, 413, 761, 678, 510, 869,\n",
       "       628, 300, 777, 418, 214, 776, 658, 653, 105, 588, 665, 383, 436,\n",
       "       799, 545, 542, 712, 882, 106, 529, 695, 119, 432,  42, 640, 149,\n",
       "       599,  53,   6, 315, 745, 148, 702, 316,  36, 549, 350, 125, 145,\n",
       "       727, 450, 276, 560, 536, 725, 533, 186, 807, 459, 488, 424, 162,\n",
       "       583, 362,  64, 638, 645, 706,  96, 636, 582, 270, 835, 292, 565,\n",
       "       730, 386, 205, 200, 781, 140, 827, 506, 124, 646, 798, 155, 849,\n",
       "       245, 750, 317, 143, 313, 447, 670, 697, 405, 769, 595, 562, 129,\n",
       "       150, 539, 225, 462, 266, 269, 160, 256, 427, 674, 892, 626, 851,\n",
       "       527, 625, 352,  11, 501, 442, 749, 792, 677, 639, 578, 369, 782,\n",
       "       244, 224, 371, 128, 755, 430,  34, 786, 531, 514, 693, 449,  94,\n",
       "       142, 193, 661,  93, 182, 818, 845, 226, 229])"
      ]
     },
     "execution_count": 93,
     "metadata": {},
     "output_type": "execute_result"
    }
   ],
   "source": [
    "from sklearn.preprocessing import LabelEncoder\n",
    "le=LabelEncoder()\n",
    "df['Property_Name']=le.fit_transform(df['Property_Name'])\n",
    "df['Property_Name'].unique()"
   ]
  },
  {
   "cell_type": "code",
   "execution_count": 94,
   "id": "c2170671-1867-48f1-8ebf-a446c7cb4c2c",
   "metadata": {},
   "outputs": [
    {
     "data": {
      "text/plain": [
       "array([1275,  885,  683, ...,  439,  230, 1138])"
      ]
     },
     "execution_count": 94,
     "metadata": {},
     "output_type": "execute_result"
    }
   ],
   "source": [
    "from sklearn.preprocessing import LabelEncoder\n",
    "le=LabelEncoder()\n",
    "df['Location']=le.fit_transform(df['Location'])\n",
    "df['Location'].unique()"
   ]
  },
  {
   "cell_type": "code",
   "execution_count": 95,
   "id": "69115996-43fc-4927-b568-bbf805210e78",
   "metadata": {},
   "outputs": [
    {
     "data": {
      "text/plain": [
       "array([ 69,  73,  24,  18, 107, 139,  41,  78,   6,  39,  33, 125, 130,\n",
       "        92,  60,  27, 133, 118,  20,  48,  19, 110,  93,  58,  80,  44,\n",
       "        37,  34,  16,  68,  23,  10, 136,  89,   2,  32,  31,  74, 134,\n",
       "       121,  59,  76,  11,  79,  81,  40,  53, 131,  22,  85, 141,  35,\n",
       "       104,   3,  65, 142, 114,  87,  13,  75, 115, 127, 137,  86, 124,\n",
       "        57,   7,  67, 109,  25,  42,  55, 129,   0,   9,  90, 116,  14,\n",
       "         4, 113, 123, 112, 138,  56, 102,  49,  98, 111, 103, 117, 122,\n",
       "       106, 140,  43,  17,  38,  51,  12,   1, 119,  26,  15,  29, 100,\n",
       "        54, 105,  97,  82,  52,  47,  46,  96, 132,  64,  63,  84,  62,\n",
       "       120, 144,  91,  72, 135,  30,  50,  61, 126,  21, 143,  77,  70,\n",
       "        28,   8,  94, 101,  66,  95,   5,  83,  99,  45, 128,  88, 108,\n",
       "        71,  36])"
      ]
     },
     "execution_count": 95,
     "metadata": {},
     "output_type": "execute_result"
    }
   ],
   "source": [
    "from sklearn.preprocessing import LabelEncoder\n",
    "le=LabelEncoder()\n",
    "df['Region']=le.fit_transform(df['Region'])\n",
    "df['Region'].unique()"
   ]
  },
  {
   "cell_type": "code",
   "execution_count": 96,
   "id": "9c731c40-dddc-4add-9f42-78957a0a567a",
   "metadata": {},
   "outputs": [
    {
     "data": {
      "text/plain": [
       "array([0, 1, 2, 3, 4])"
      ]
     },
     "execution_count": 96,
     "metadata": {},
     "output_type": "execute_result"
    }
   ],
   "source": [
    "from sklearn.preprocessing import LabelEncoder\n",
    "le=LabelEncoder()\n",
    "df['Property_Age']=le.fit_transform(df['Property_Age'])\n",
    "df['Property_Age'].unique()"
   ]
  },
  {
   "cell_type": "code",
   "execution_count": 97,
   "id": "6e2a9d77-1371-45cc-a7dd-719dc81eced3",
   "metadata": {},
   "outputs": [
    {
     "data": {
      "text/plain": [
       "array([0, 1])"
      ]
     },
     "execution_count": 97,
     "metadata": {},
     "output_type": "execute_result"
    }
   ],
   "source": [
    "from sklearn.preprocessing import LabelEncoder\n",
    "le=LabelEncoder()\n",
    "df['Availability']=le.fit_transform(df['Availability'])\n",
    "df['Availability'].unique()"
   ]
  },
  {
   "cell_type": "code",
   "execution_count": 98,
   "id": "2e7be600-e859-4411-8591-8622e23b75f2",
   "metadata": {},
   "outputs": [
    {
     "data": {
      "text/plain": [
       "array([3, 0, 1, 2])"
      ]
     },
     "execution_count": 98,
     "metadata": {},
     "output_type": "execute_result"
    }
   ],
   "source": [
    "from sklearn.preprocessing import LabelEncoder\n",
    "le=LabelEncoder()\n",
    "df['Area_Tpye']=le.fit_transform(df['Area_Tpye'])\n",
    "df['Area_Tpye'].unique()"
   ]
  },
  {
   "cell_type": "code",
   "execution_count": 99,
   "id": "78f0172a-bed7-4cf7-bb10-0c87e4c9b316",
   "metadata": {},
   "outputs": [],
   "source": [
    "x=df[['Property_Name', 'Location', 'Region', 'Property_Age', 'Availability',\n",
    "       'Area_Tpye', 'Area_SqFt', 'Rate_SqFt', 'Floor_No', 'Bedroom',\n",
    "       'Bathroom']]"
   ]
  },
  {
   "cell_type": "code",
   "execution_count": 100,
   "id": "efd1b1e1-7ac0-4294-a944-3a65792d4b55",
   "metadata": {},
   "outputs": [
    {
     "data": {
      "text/html": [
       "<div>\n",
       "<style scoped>\n",
       "    .dataframe tbody tr th:only-of-type {\n",
       "        vertical-align: middle;\n",
       "    }\n",
       "\n",
       "    .dataframe tbody tr th {\n",
       "        vertical-align: top;\n",
       "    }\n",
       "\n",
       "    .dataframe thead th {\n",
       "        text-align: right;\n",
       "    }\n",
       "</style>\n",
       "<table border=\"1\" class=\"dataframe\">\n",
       "  <thead>\n",
       "    <tr style=\"text-align: right;\">\n",
       "      <th></th>\n",
       "      <th>Property_Name</th>\n",
       "      <th>Location</th>\n",
       "      <th>Region</th>\n",
       "      <th>Property_Age</th>\n",
       "      <th>Availability</th>\n",
       "      <th>Area_Tpye</th>\n",
       "      <th>Area_SqFt</th>\n",
       "      <th>Rate_SqFt</th>\n",
       "      <th>Floor_No</th>\n",
       "      <th>Bedroom</th>\n",
       "      <th>Bathroom</th>\n",
       "    </tr>\n",
       "  </thead>\n",
       "  <tbody>\n",
       "    <tr>\n",
       "      <th>0</th>\n",
       "      <td>487</td>\n",
       "      <td>1275</td>\n",
       "      <td>69</td>\n",
       "      <td>0</td>\n",
       "      <td>0</td>\n",
       "      <td>3</td>\n",
       "      <td>2900.0</td>\n",
       "      <td>17241</td>\n",
       "      <td>14</td>\n",
       "      <td>3</td>\n",
       "      <td>4</td>\n",
       "    </tr>\n",
       "    <tr>\n",
       "      <th>1</th>\n",
       "      <td>802</td>\n",
       "      <td>885</td>\n",
       "      <td>73</td>\n",
       "      <td>1</td>\n",
       "      <td>0</td>\n",
       "      <td>3</td>\n",
       "      <td>1900.0</td>\n",
       "      <td>12631</td>\n",
       "      <td>8</td>\n",
       "      <td>3</td>\n",
       "      <td>3</td>\n",
       "    </tr>\n",
       "    <tr>\n",
       "      <th>2</th>\n",
       "      <td>359</td>\n",
       "      <td>683</td>\n",
       "      <td>24</td>\n",
       "      <td>2</td>\n",
       "      <td>0</td>\n",
       "      <td>3</td>\n",
       "      <td>595.0</td>\n",
       "      <td>15966</td>\n",
       "      <td>3</td>\n",
       "      <td>1</td>\n",
       "      <td>2</td>\n",
       "    </tr>\n",
       "    <tr>\n",
       "      <th>3</th>\n",
       "      <td>843</td>\n",
       "      <td>1262</td>\n",
       "      <td>18</td>\n",
       "      <td>3</td>\n",
       "      <td>0</td>\n",
       "      <td>0</td>\n",
       "      <td>1450.0</td>\n",
       "      <td>25862</td>\n",
       "      <td>1</td>\n",
       "      <td>3</td>\n",
       "      <td>3</td>\n",
       "    </tr>\n",
       "    <tr>\n",
       "      <th>4</th>\n",
       "      <td>843</td>\n",
       "      <td>246</td>\n",
       "      <td>107</td>\n",
       "      <td>3</td>\n",
       "      <td>0</td>\n",
       "      <td>1</td>\n",
       "      <td>876.0</td>\n",
       "      <td>39954</td>\n",
       "      <td>5</td>\n",
       "      <td>2</td>\n",
       "      <td>2</td>\n",
       "    </tr>\n",
       "    <tr>\n",
       "      <th>...</th>\n",
       "      <td>...</td>\n",
       "      <td>...</td>\n",
       "      <td>...</td>\n",
       "      <td>...</td>\n",
       "      <td>...</td>\n",
       "      <td>...</td>\n",
       "      <td>...</td>\n",
       "      <td>...</td>\n",
       "      <td>...</td>\n",
       "      <td>...</td>\n",
       "      <td>...</td>\n",
       "    </tr>\n",
       "    <tr>\n",
       "      <th>2560</th>\n",
       "      <td>693</td>\n",
       "      <td>1143</td>\n",
       "      <td>130</td>\n",
       "      <td>1</td>\n",
       "      <td>0</td>\n",
       "      <td>0</td>\n",
       "      <td>1180.0</td>\n",
       "      <td>10338</td>\n",
       "      <td>2</td>\n",
       "      <td>2</td>\n",
       "      <td>2</td>\n",
       "    </tr>\n",
       "    <tr>\n",
       "      <th>2561</th>\n",
       "      <td>226</td>\n",
       "      <td>1120</td>\n",
       "      <td>130</td>\n",
       "      <td>0</td>\n",
       "      <td>0</td>\n",
       "      <td>0</td>\n",
       "      <td>1090.0</td>\n",
       "      <td>8073</td>\n",
       "      <td>11</td>\n",
       "      <td>2</td>\n",
       "      <td>2</td>\n",
       "    </tr>\n",
       "    <tr>\n",
       "      <th>2562</th>\n",
       "      <td>79</td>\n",
       "      <td>1238</td>\n",
       "      <td>130</td>\n",
       "      <td>1</td>\n",
       "      <td>0</td>\n",
       "      <td>0</td>\n",
       "      <td>1295.0</td>\n",
       "      <td>10579</td>\n",
       "      <td>6</td>\n",
       "      <td>2</td>\n",
       "      <td>2</td>\n",
       "    </tr>\n",
       "    <tr>\n",
       "      <th>2563</th>\n",
       "      <td>79</td>\n",
       "      <td>1238</td>\n",
       "      <td>130</td>\n",
       "      <td>1</td>\n",
       "      <td>0</td>\n",
       "      <td>0</td>\n",
       "      <td>1850.0</td>\n",
       "      <td>9243</td>\n",
       "      <td>6</td>\n",
       "      <td>3</td>\n",
       "      <td>3</td>\n",
       "    </tr>\n",
       "    <tr>\n",
       "      <th>2564</th>\n",
       "      <td>229</td>\n",
       "      <td>1238</td>\n",
       "      <td>130</td>\n",
       "      <td>0</td>\n",
       "      <td>0</td>\n",
       "      <td>0</td>\n",
       "      <td>1100.0</td>\n",
       "      <td>8636</td>\n",
       "      <td>4</td>\n",
       "      <td>2</td>\n",
       "      <td>2</td>\n",
       "    </tr>\n",
       "  </tbody>\n",
       "</table>\n",
       "<p>2565 rows × 11 columns</p>\n",
       "</div>"
      ],
      "text/plain": [
       "      Property_Name  Location  Region  Property_Age  Availability  Area_Tpye  \\\n",
       "0               487      1275      69             0             0          3   \n",
       "1               802       885      73             1             0          3   \n",
       "2               359       683      24             2             0          3   \n",
       "3               843      1262      18             3             0          0   \n",
       "4               843       246     107             3             0          1   \n",
       "...             ...       ...     ...           ...           ...        ...   \n",
       "2560            693      1143     130             1             0          0   \n",
       "2561            226      1120     130             0             0          0   \n",
       "2562             79      1238     130             1             0          0   \n",
       "2563             79      1238     130             1             0          0   \n",
       "2564            229      1238     130             0             0          0   \n",
       "\n",
       "      Area_SqFt  Rate_SqFt  Floor_No  Bedroom  Bathroom  \n",
       "0        2900.0      17241        14        3         4  \n",
       "1        1900.0      12631         8        3         3  \n",
       "2         595.0      15966         3        1         2  \n",
       "3        1450.0      25862         1        3         3  \n",
       "4         876.0      39954         5        2         2  \n",
       "...         ...        ...       ...      ...       ...  \n",
       "2560     1180.0      10338         2        2         2  \n",
       "2561     1090.0       8073        11        2         2  \n",
       "2562     1295.0      10579         6        2         2  \n",
       "2563     1850.0       9243         6        3         3  \n",
       "2564     1100.0       8636         4        2         2  \n",
       "\n",
       "[2565 rows x 11 columns]"
      ]
     },
     "execution_count": 100,
     "metadata": {},
     "output_type": "execute_result"
    }
   ],
   "source": [
    "x"
   ]
  },
  {
   "cell_type": "code",
   "execution_count": 101,
   "id": "1283900c-3730-473b-9c38-8cf9206cc02a",
   "metadata": {},
   "outputs": [],
   "source": [
    "y=df[['Price_Lakh']]"
   ]
  },
  {
   "cell_type": "code",
   "execution_count": 102,
   "id": "55b2b8b7-50f7-4203-af60-d61fa0ea633a",
   "metadata": {},
   "outputs": [
    {
     "data": {
      "text/html": [
       "<div>\n",
       "<style scoped>\n",
       "    .dataframe tbody tr th:only-of-type {\n",
       "        vertical-align: middle;\n",
       "    }\n",
       "\n",
       "    .dataframe tbody tr th {\n",
       "        vertical-align: top;\n",
       "    }\n",
       "\n",
       "    .dataframe thead th {\n",
       "        text-align: right;\n",
       "    }\n",
       "</style>\n",
       "<table border=\"1\" class=\"dataframe\">\n",
       "  <thead>\n",
       "    <tr style=\"text-align: right;\">\n",
       "      <th></th>\n",
       "      <th>Price_Lakh</th>\n",
       "    </tr>\n",
       "  </thead>\n",
       "  <tbody>\n",
       "    <tr>\n",
       "      <th>0</th>\n",
       "      <td>500.0</td>\n",
       "    </tr>\n",
       "    <tr>\n",
       "      <th>1</th>\n",
       "      <td>240.0</td>\n",
       "    </tr>\n",
       "    <tr>\n",
       "      <th>2</th>\n",
       "      <td>95.0</td>\n",
       "    </tr>\n",
       "    <tr>\n",
       "      <th>3</th>\n",
       "      <td>375.0</td>\n",
       "    </tr>\n",
       "    <tr>\n",
       "      <th>4</th>\n",
       "      <td>350.0</td>\n",
       "    </tr>\n",
       "    <tr>\n",
       "      <th>...</th>\n",
       "      <td>...</td>\n",
       "    </tr>\n",
       "    <tr>\n",
       "      <th>2560</th>\n",
       "      <td>122.0</td>\n",
       "    </tr>\n",
       "    <tr>\n",
       "      <th>2561</th>\n",
       "      <td>88.0</td>\n",
       "    </tr>\n",
       "    <tr>\n",
       "      <th>2562</th>\n",
       "      <td>137.0</td>\n",
       "    </tr>\n",
       "    <tr>\n",
       "      <th>2563</th>\n",
       "      <td>171.0</td>\n",
       "    </tr>\n",
       "    <tr>\n",
       "      <th>2564</th>\n",
       "      <td>95.0</td>\n",
       "    </tr>\n",
       "  </tbody>\n",
       "</table>\n",
       "<p>2565 rows × 1 columns</p>\n",
       "</div>"
      ],
      "text/plain": [
       "      Price_Lakh\n",
       "0          500.0\n",
       "1          240.0\n",
       "2           95.0\n",
       "3          375.0\n",
       "4          350.0\n",
       "...          ...\n",
       "2560       122.0\n",
       "2561        88.0\n",
       "2562       137.0\n",
       "2563       171.0\n",
       "2564        95.0\n",
       "\n",
       "[2565 rows x 1 columns]"
      ]
     },
     "execution_count": 102,
     "metadata": {},
     "output_type": "execute_result"
    }
   ],
   "source": [
    "y"
   ]
  },
  {
   "cell_type": "code",
   "execution_count": 103,
   "id": "f5435b0c-a6c9-484d-9a12-c57b26609dc4",
   "metadata": {},
   "outputs": [],
   "source": [
    "from sklearn.model_selection import train_test_split\n",
    "x_train,x_test,y_train,y_test=train_test_split(x,y,test_size=0.1)"
   ]
  },
  {
   "cell_type": "code",
   "execution_count": 104,
   "id": "3bb101e6-db55-4304-8582-058780ad92e3",
   "metadata": {},
   "outputs": [
    {
     "data": {
      "text/plain": [
       "(2308, 11)"
      ]
     },
     "execution_count": 104,
     "metadata": {},
     "output_type": "execute_result"
    }
   ],
   "source": [
    "x_train.shape"
   ]
  },
  {
   "cell_type": "code",
   "execution_count": 105,
   "id": "54186c75-fabc-49b9-bd64-8c04f2f5fe0d",
   "metadata": {},
   "outputs": [
    {
     "data": {
      "text/plain": [
       "(257, 11)"
      ]
     },
     "execution_count": 105,
     "metadata": {},
     "output_type": "execute_result"
    }
   ],
   "source": [
    "x_test.shape"
   ]
  },
  {
   "cell_type": "code",
   "execution_count": 106,
   "id": "429aef74-01a7-4342-951e-0d5d51998daf",
   "metadata": {},
   "outputs": [
    {
     "data": {
      "text/plain": [
       "(2308, 1)"
      ]
     },
     "execution_count": 106,
     "metadata": {},
     "output_type": "execute_result"
    }
   ],
   "source": [
    "y_train.shape"
   ]
  },
  {
   "cell_type": "code",
   "execution_count": 107,
   "id": "16b42b53-deed-4318-8616-4a324ed80d02",
   "metadata": {},
   "outputs": [
    {
     "data": {
      "text/plain": [
       "(257, 1)"
      ]
     },
     "execution_count": 107,
     "metadata": {},
     "output_type": "execute_result"
    }
   ],
   "source": [
    "y_test.shape"
   ]
  },
  {
   "cell_type": "code",
   "execution_count": 108,
   "id": "055c9809-bac8-445e-93bf-4e4dafa02504",
   "metadata": {},
   "outputs": [
    {
     "name": "stdout",
     "output_type": "stream",
     "text": [
      "0.5841364556559728\n"
     ]
    }
   ],
   "source": [
    "from sklearn.metrics import r2_score\n",
    "from sklearn.linear_model import LinearRegression\n",
    "reg = LinearRegression()\n",
    "reg.fit(x_train, y_train)\n",
    "y_pred=reg.predict(x_test)\n",
    "score=r2_score(y_pred,y_test)\n",
    "print(score)"
   ]
  },
  {
   "cell_type": "code",
   "execution_count": 109,
   "id": "c848e72b-d8aa-476f-bfb9-03fe4bd62e6e",
   "metadata": {},
   "outputs": [
    {
     "name": "stdout",
     "output_type": "stream",
     "text": [
      "0.872324004341477\n"
     ]
    }
   ],
   "source": [
    "from sklearn.metrics import r2_score\n",
    "from sklearn import tree\n",
    "reg1= tree.DecisionTreeRegressor()\n",
    "reg1.fit(x_train, y_train)\n",
    "y_pred=reg1.predict(x_test)\n",
    "score=r2_score(y_pred,y_test)\n",
    "print(score)"
   ]
  },
  {
   "cell_type": "code",
   "execution_count": 110,
   "id": "c20c51df-1e0a-4bcd-9d0f-bcf1d69d1946",
   "metadata": {},
   "outputs": [
    {
     "name": "stderr",
     "output_type": "stream",
     "text": [
      "c:\\Users\\praveen\\AppData\\Local\\Programs\\Python\\Python312\\Lib\\site-packages\\sklearn\\base.py:493: UserWarning: X does not have valid feature names, but DecisionTreeRegressor was fitted with feature names\n",
      "  warnings.warn(\n"
     ]
    }
   ],
   "source": [
    "prediction=reg1.predict([[791,877,73,1,0,3,1900.0,12631,8,3,3]])"
   ]
  },
  {
   "cell_type": "code",
   "execution_count": 111,
   "id": "c9a01839-8349-4461-9ed9-c615b6046a96",
   "metadata": {},
   "outputs": [
    {
     "name": "stdout",
     "output_type": "stream",
     "text": [
      "[240.]\n"
     ]
    }
   ],
   "source": [
    "print(prediction)"
   ]
  },
  {
   "cell_type": "code",
   "execution_count": 112,
   "id": "37ae3ce9-f682-4c36-9999-b89dc58388ed",
   "metadata": {},
   "outputs": [
    {
     "name": "stdout",
     "output_type": "stream",
     "text": [
      "['Property_Age', 'Area_Tpye', 'Floor_No', 'Bedroom', 'Bathroom']\n",
      "Number of ordinal features is : 5\n"
     ]
    }
   ],
   "source": [
    "print(ordinal_variables)\n",
    "print('Number of ordinal features is :',len(ordinal_variables))"
   ]
  },
  {
   "cell_type": "code",
   "execution_count": 113,
   "id": "0bb7e48b-adbb-47ed-8796-6182b8532f9b",
   "metadata": {},
   "outputs": [
    {
     "data": {
      "image/png": "[encoded data removed]",
      "text/plain": [
       "<Figure size 1000x600 with 1 Axes>"
      ]
     },
     "metadata": {},
     "output_type": "display_data"
    }
   ],
   "source": [
    "import matplotlib.pyplot as plt\n",
    "import seaborn as sns\n",
    "import pylab\n",
    "fig = plt.figure(figsize=(10, 6))\n",
    "grouped = df.groupby('Property_Age').median(numeric_only=True)\n",
    "sns.barplot(x=grouped['Price_Lakh'], y=grouped.index)\n",
    "fig.suptitle('Price with respect to Property Age', fontsize=18, fontweight=\"bold\")\n",
    "fig.text(0.9, 0.15, 'suja', fontsize=13, color='blue')\n",
    "pylab.rcParams.update(rcParams)\n",
    "fig.tight_layout(rect=[0, 0, 1, 0.95])  \n",
    "plt.show()"
   ]
  },
  {
   "cell_type": "code",
   "execution_count": 114,
   "id": "f08b3359-8598-4113-8e1e-e4b7a28ad449",
   "metadata": {},
   "outputs": [
    {
     "data": {
      "image/png": "[encoded data removed]",
      "text/plain": [
       "<Figure size 800x800 with 1 Axes>"
      ]
     },
     "metadata": {},
     "output_type": "display_data"
    }
   ],
   "source": [
    "fig=plt.figure(figsize=(8,8))\n",
    "plt.pie(df['Property_Age'].value_counts(),\n",
    "       labels=['1 to 5 Years','0 to 1 Year','5 to 10 Year','10+ Year','Under Construction'],\n",
    "       autopct= '%.2f%%',textprops={'size':'large'},explode=[0.005,0.005,0.005,0.005,0.005])\n",
    "plt.legend(loc= 'upper left')\n",
    "plt.title(\"Price with respect to Property Age\",fontsize= 18,fontweight= 'bold')\n",
    "fig.text(0.9, 0.15, 'suja', fontsize=13, color='blue')\n",
    "pylab.rcParams.update(rcParams)\n",
    "fig.tight_layout()\n",
    "fig.subplots_adjust(top=0.93)\n",
    "plt.show()\n",
    "\n",
    "#fig.savefig('Price_Age_Distribution', dpi=500)"
   ]
  },
  {
   "cell_type": "code",
   "execution_count": 115,
   "id": "348f0f61-9871-41f7-bf5f-6ad4d175be6c",
   "metadata": {},
   "outputs": [
    {
     "data": {
      "image/png": "[encoded data removed]",
      "text/plain": [
       "<Figure size 1200x600 with 1 Axes>"
      ]
     },
     "metadata": {},
     "output_type": "display_data"
    }
   ],
   "source": [
    "fig = plt.figure(figsize=(12,6))\n",
    "fig.suptitle('Price with respect to Property Age', size= 18, fontweight=\"bold\")\n",
    "fig.text(0.9, 0.15, 'suja', fontsize=13, color='blue')\n",
    "\n",
    "sns.scatterplot(data= df, x=df['Property_Age'], y= df['Price_Lakh'])\n",
    "plt.xlabel(\"Property Age\", size=16)\n",
    "plt.ylabel(\"Price (Lakhs)\", size=16)\n",
    "plt.xticks(rotation=90)\n",
    "\n",
    "pylab.rcParams.update(rcParams)\n",
    "fig.tight_layout()\n",
    "plt.show()"
   ]
  },
  {
   "cell_type": "code",
   "execution_count": 116,
   "id": "cb4c4d2f-6ebe-43d6-bff2-67e22aa4190f",
   "metadata": {},
   "outputs": [
    {
     "name": "stderr",
     "output_type": "stream",
     "text": [
      "C:\\Users\\praveen\\AppData\\Local\\Temp\\ipykernel_35848\\582584761.py:15: FutureWarning: \n",
      "\n",
      "Passing `palette` without assigning `hue` is deprecated and will be removed in v0.14.0. Assign the `x` variable to `hue` and set `legend=False` for the same effect.\n",
      "\n",
      "  sns.barplot(ax=ax[0], data=bedroom_median, x='Bedroom', y='Price_Lakh', palette=bed_colors)\n",
      "C:\\Users\\praveen\\AppData\\Local\\Temp\\ipykernel_35848\\582584761.py:15: UserWarning: \n",
      "The palette list has fewer values (4) than needed (6) and will cycle, which may produce an uninterpretable plot.\n",
      "  sns.barplot(ax=ax[0], data=bedroom_median, x='Bedroom', y='Price_Lakh', palette=bed_colors)\n",
      "C:\\Users\\praveen\\AppData\\Local\\Temp\\ipykernel_35848\\582584761.py:16: FutureWarning: \n",
      "\n",
      "Passing `palette` without assigning `hue` is deprecated and will be removed in v0.14.0. Assign the `x` variable to `hue` and set `legend=False` for the same effect.\n",
      "\n",
      "  sns.barplot(ax=ax[1], data=bathroom_median, x='Bathroom', y='Price_Lakh', palette=bath_colors)\n",
      "C:\\Users\\praveen\\AppData\\Local\\Temp\\ipykernel_35848\\582584761.py:16: UserWarning: \n",
      "The palette list has fewer values (4) than needed (7) and will cycle, which may produce an uninterpretable plot.\n",
      "  sns.barplot(ax=ax[1], data=bathroom_median, x='Bathroom', y='Price_Lakh', palette=bath_colors)\n"
     ]
    },
    {
     "data": {
      "image/png": "[encoded data removed]",
      "text/plain": [
       "<Figure size 1200x1200 with 2 Axes>"
      ]
     },
     "metadata": {},
     "output_type": "display_data"
    }
   ],
   "source": [
    "import matplotlib.pyplot as plt\n",
    "import seaborn as sns\n",
    "import pylab\n",
    "\n",
    "\n",
    "bedroom_median = df.groupby('Bedroom', as_index=False)['Price_Lakh'].median()\n",
    "bathroom_median = df.groupby('Bathroom', as_index=False)['Price_Lakh'].median()\n",
    "\n",
    "bed_colors = ['#ff9999','#66b3ff','#99ff99','#ffcc99']\n",
    "bath_colors = ['#c2c2f0','#ffb3e6','#c2f0c2','#f0c2c2']\n",
    "\n",
    "\n",
    "fig, ax = plt.subplots(2, 1, figsize=(12, 12))\n",
    "\n",
    "sns.barplot(ax=ax[0], data=bedroom_median, x='Bedroom', y='Price_Lakh', palette=bed_colors)\n",
    "sns.barplot(ax=ax[1], data=bathroom_median, x='Bathroom', y='Price_Lakh', palette=bath_colors)\n",
    "\n",
    "fig.suptitle('Price with respect to Bed & Bath', size=18, fontweight=\"bold\")\n",
    "fig.text(0.9, 0.15, 'suja', fontsize=13, color='black')\n",
    "\n",
    "pylab.rcParams.update(rcParams)\n",
    "fig.tight_layout()\n",
    "fig.subplots_adjust(top=0.93)\n",
    "plt.show()\n",
    "\n"
   ]
  },
  {
   "cell_type": "code",
   "execution_count": 117,
   "id": "bd93c808-7c23-41d8-9e4e-80929bf5a752",
   "metadata": {},
   "outputs": [],
   "source": [
    "import pickle"
   ]
  },
  {
   "cell_type": "code",
   "execution_count": 118,
   "id": "6227cad5-ef27-4db3-9368-33e104df11e3",
   "metadata": {},
   "outputs": [],
   "source": [
    "filename = 'housepriceprediction.pkl'\n",
    "pickle.dump(reg,open(filename,'wb'))"
   ]
  }
 ],
 "metadata": {
  "kernelspec": {
   "display_name": "Python 3",
   "language": "python",
   "name": "python3"
  },
  "language_info": {
   "codemirror_mode": {
    "name": "ipython",
    "version": 3
   },
   "file_extension": ".py",
   "mimetype": "text/x-python",
   "name": "python",
   "nbconvert_exporter": "python",
   "pygments_lexer": "ipython3",
   "version": "3.12.4"
  }
 },
 "nbformat": 4,
 "nbformat_minor": 5
}
